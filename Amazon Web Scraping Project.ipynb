{
 "cells": [
  {
   "cell_type": "code",
   "execution_count": 6,
   "id": "9f1679fe-a6df-43cb-913c-7a7842109859",
   "metadata": {},
   "outputs": [],
   "source": [
    "#import libraries \n",
    "from bs4 import BeautifulSoup \n",
    "import requests \n",
    "import time \n",
    "import datetime\n",
    "import smtplib "
   ]
  },
  {
   "cell_type": "code",
   "execution_count": 16,
   "id": "bf2ec823-5b9e-4228-b19a-dd5a31792a55",
   "metadata": {},
   "outputs": [
    {
     "name": "stdout",
     "output_type": "stream",
     "text": [
      "Data Analyst T Shirt Funny Gift for Bean Counter Graduate Career Professional Numbers Geek Spreadsheet Unisex Tee\n",
      "$23.97\n"
     ]
    }
   ],
   "source": [
    "url = 'https://www.amazon.com/Analyst-Graduate-Career-Professional-Spreadsheet/dp/B0C1MHVRNK?crid=QYJSW6EAQKBU&dib=eyJ2IjoiMSJ9.H_xD2LC8KXJb_HUr4wTcfQOCOC4ApnYnMUNVci9V3ElwQyU6oy5bJcDB8aaUPbHk1GGpxA1m6Tu7pa5CupHg4230MRWc3CXFaGVYeQr_8BNR-ABgf1C0zJbfP9KGdiTYgjjvP_3pmq3xJpi7yQ6QZH2vLYukc1fDy3ADX3dajevpVeTycrbHqDXyG68yVo2JUOknoPLcNehmO-FwvAlUJ2wXndJI1GYqYFX12IDJTpz21vltEG0dAQAgqHPIFWtrzK-JVU2s0AHZNGv0HpoGx5e37TPFQgLN9TdMWBAhRug.xH1t5DmZhvuHNkncGsKHhM9sTGoSmhF_lprJz-uPHJw&dib_tag=se&keywords=data%2Banalyst%2Btshirt&qid=1730964486&sprefix=data%2Banalyst%2Btshir%2Caps%2C398&sr=8-6&th=1&psc=1'\n",
    "\n",
    "headers = {\n",
    "    'User-Agent': 'Mozilla/5.0 (Windows NT 11.0; Win64; x64) AppleWebKit/537.36 (KHTML, like Gecko) Chrome/86.0.4240.183 Safari/537.36'\n",
    "}\n",
    "\n",
    "page = requests.get(url, headers=headers)\n",
    "\n",
    "soup = BeautifulSoup(page.text, 'html') \n",
    "\n",
    "title = soup.find(id='productTitle').get_text(strip=True)\n",
    "price = soup.find(class_='aok-offscreen').get_text(strip=True)\n",
    "print(title)\n",
    "print(price)"
   ]
  },
  {
   "cell_type": "code",
   "execution_count": 18,
   "id": "ae95ea90-8735-4a43-bbff-cc4e750b0ad7",
   "metadata": {},
   "outputs": [
    {
     "name": "stdout",
     "output_type": "stream",
     "text": [
      "2024-11-08\n"
     ]
    }
   ],
   "source": [
    "today = datetime.date.today() \n",
    "print(today)"
   ]
  },
  {
   "cell_type": "code",
   "execution_count": 20,
   "id": "8a43f65b-fb84-45e3-a190-d674735dc52c",
   "metadata": {},
   "outputs": [],
   "source": [
    "import csv\n",
    "header = ['Title', 'Price', 'Date']\n",
    "data = [title, price, today] \n",
    "\n",
    "with open('AmazonWebScrapingDataSet.csv', 'w', newline='', encoding='UTF8') as f: \n",
    "    writer = csv.writer(f)\n",
    "    writer.writerow(header)\n",
    "    writer.writerow(data)"
   ]
  },
  {
   "cell_type": "code",
   "execution_count": 22,
   "id": "0550938a-8950-49b8-9fe8-75f95ba2efec",
   "metadata": {},
   "outputs": [
    {
     "name": "stdout",
     "output_type": "stream",
     "text": [
      "                                               Title   Price        Date\n",
      "0  Data Analyst T Shirt Funny Gift for Bean Count...  $23.97  2024-11-07\n"
     ]
    }
   ],
   "source": [
    "import pandas as pd \n",
    "df = pd.read_csv(r'C:\\Users\\ADMIN\\OneDrive\\Desktop\\DA\\Alex_DA_Bootcamp\\Python\\Project\\Web Scraping\\AmazonWebScrapingDataSet.csv') \n",
    "print(df)"
   ]
  },
  {
   "cell_type": "code",
   "execution_count": 24,
   "id": "f14ed36f-1151-4128-babd-df8a1767f376",
   "metadata": {},
   "outputs": [],
   "source": [
    "def check_price(): \n",
    "    url = 'https://www.amazon.com/Analyst-Graduate-Career-Professional-Spreadsheet/dp/B0C1MHVRNK?crid=QYJSW6EAQKBU&dib=eyJ2IjoiMSJ9.H_xD2LC8KXJb_HUr4wTcfQOCOC4ApnYnMUNVci9V3ElwQyU6oy5bJcDB8aaUPbHk1GGpxA1m6Tu7pa5CupHg4230MRWc3CXFaGVYeQr_8BNR-ABgf1C0zJbfP9KGdiTYgjjvP_3pmq3xJpi7yQ6QZH2vLYukc1fDy3ADX3dajevpVeTycrbHqDXyG68yVo2JUOknoPLcNehmO-FwvAlUJ2wXndJI1GYqYFX12IDJTpz21vltEG0dAQAgqHPIFWtrzK-JVU2s0AHZNGv0HpoGx5e37TPFQgLN9TdMWBAhRug.xH1t5DmZhvuHNkncGsKHhM9sTGoSmhF_lprJz-uPHJw&dib_tag=se&keywords=data%2Banalyst%2Btshirt&qid=1730964486&sprefix=data%2Banalyst%2Btshir%2Caps%2C398&sr=8-6&th=1&psc=1'\n",
    "\n",
    "    headers = {\n",
    "    'User-Agent': 'Mozilla/5.0 (Windows NT 11.0; Win64; x64) AppleWebKit/537.36 (KHTML, like Gecko) Chrome/86.0.4240.183 Safari/537.36'\n",
    "        }\n",
    "\n",
    "    page = requests.get(url, headers=headers)\n",
    "\n",
    "    soup = BeautifulSoup(page.text, 'html') \n",
    "\n",
    "    title = soup.find(id='productTitle').get_text(strip=True)\n",
    "    price = soup.find(class_='aok-offscreen').get_text(strip=True)\n",
    "\n",
    "    today = datetime.date.today() \n",
    "    import csv\n",
    "    header = ['Title', 'Price', 'Date']\n",
    "    data = [title, price, today] \n",
    "\n",
    "    with open('AmazonWebScrapingDataSet.csv', 'a+', newline='', encoding='UTF8') as f: \n",
    "        writer = csv.writer(f)\n",
    "        writer.writerow(data) "
   ]
  },
  {
   "cell_type": "code",
   "execution_count": null,
   "id": "435fbb7b-5d72-45bb-b438-5c564602314d",
   "metadata": {},
   "outputs": [],
   "source": [
    "while(True):\n",
    "    check_price() \n",
    "    time.sleep(86400)"
   ]
  },
  {
   "cell_type": "code",
   "execution_count": null,
   "id": "fabf0f87-e32b-408d-8caa-c3cf454fe30e",
   "metadata": {},
   "outputs": [],
   "source": [
    "import pandas as pd \n",
    "df = pd.read_csv(r'C:\\Users\\ADMIN\\OneDrive\\Desktop\\DA\\Alex_DA_Bootcamp\\Python\\Project\\Web Scraping\\AmazonWebScrapingDataSet.csv') \n",
    "print(df)"
   ]
  },
  {
   "cell_type": "code",
   "execution_count": null,
   "id": "5afef68e-674d-4ed9-b6c7-c6ad682fe719",
   "metadata": {},
   "outputs": [],
   "source": []
  },
  {
   "cell_type": "code",
   "execution_count": null,
   "id": "eb5452cd-30ce-4108-be14-696d097702df",
   "metadata": {},
   "outputs": [],
   "source": []
  }
 ],
 "metadata": {
  "kernelspec": {
   "display_name": "Python 3 (ipykernel)",
   "language": "python",
   "name": "python3"
  },
  "language_info": {
   "codemirror_mode": {
    "name": "ipython",
    "version": 3
   },
   "file_extension": ".py",
   "mimetype": "text/x-python",
   "name": "python",
   "nbconvert_exporter": "python",
   "pygments_lexer": "ipython3",
   "version": "3.12.7"
  }
 },
 "nbformat": 4,
 "nbformat_minor": 5
}
